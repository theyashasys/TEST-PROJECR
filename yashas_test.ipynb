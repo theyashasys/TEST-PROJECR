{
  "metadata": {
    "kernelspec": {
      "name": "python",
      "display_name": "Python (Pyodide)",
      "language": "python"
    },
    "language_info": {
      "codemirror_mode": {
        "name": "python",
        "version": 3
      },
      "file_extension": ".py",
      "mimetype": "text/x-python",
      "name": "python",
      "nbconvert_exporter": "python",
      "pygments_lexer": "ipython3",
      "version": "3.8"
    }
  },
  "nbformat_minor": 4,
  "nbformat": 4,
  "cells": [
    {
      "cell_type": "markdown",
      "source": "# YASHAS TEST PROJECT\n",
      "metadata": {}
    },
    {
      "cell_type": "markdown",
      "source": "### This is my first project with jupyter , hope you all like it.",
      "metadata": {}
    },
    {
      "cell_type": "markdown",
      "source": "### Here’s a list of popular data science languages:\n\npython - Widely used for data analysis, machine learning, and visualization.\nR - Specifically designed for statistical analysis and data visualization.\nSQL - Essential for querying and managing databases.\nJava - Used for large-scale data processing and building data pipelines.\nScala - Often used with Apache Spark for big data processing.\nJulia - Known for high-performance numerical and scientific computing.\nMATLAB - Used for mathematical modeling and simulations.\nSAS - Used in advanced analytics, business intelligence, and data management.\nC++ - Sometimes used for performance-intensive data processing tasks.",
      "metadata": {}
    },
    {
      "cell_type": "markdown",
      "source": "#Here’s a list of popular data science libraries:\n\n#Python Libraries\n#Pandas - Data manipulation and analysis.\n#NumPy - Numerical computing and array operations.\n#Matplotlib - Data visualization.\n#Seaborn - Statistical data visualization built on Matplotlib.\n#Scikit-learn - Machine learning algorithms and tools.\n#TensorFlow - Deep learning and neural networks.\n#Keras - High-level neural networks API, running on top of TensorFlow.\n#PyTorch - Deep learning framework with dynamic computation graphs.\n#Statsmodels - Statistical modeling and hypothesis testing.",
      "metadata": {}
    },
    {
      "cell_type": "markdown",
      "source": "| Category            | Tool                | Description                                                  |\n|---------------------|---------------------|--------------------------------------------------------------|\n| Programming Languages| Python              | Widely used for data analysis, machine learning, and visualization. |\n|                     | R                   | Designed for statistical analysis and data visualization.   |\n|                     | SQL                 | Essential for querying and managing databases.              |\n| Data Manipulation   | Pandas              | Data manipulation and analysis in Python.                   |\n|                     | dplyr               | Data manipulation in R.                                     |\n| Machine Learning     | Scikit-learn        | Machine learning algorithms and tools for Python.           |\n|                     | TensorFlow          | Deep learning framework.                                    |\n|                     | Keras               | High-level API for building neural networks.                |\n|                     | PyTorch             | Deep learning framework with dynamic computation graphs.     |\n|                     | XGBoost             | Gradient boosting framework for machine learning.           |\n|                     | LightGBM            | Fast, distributed, high-performance gradient boosting.      |\n| Data Visualization   | Matplotlib          | Basic plotting library for Python.                          |\n|                     | Seaborn             | Statistical data visualization built on Matplotlib.         |\n|                     | ggplot2             | Data visualization in R based on the grammar of graphics.  |\n| Big Data Tools      | Apache Spark        | Big data processing and analytics framework.                |\n|                     | Dask                | Parallel computing in Python.                               |\n| Web Development      | Flask               | Micro web framework for Python, often used for data apps.  |\n|                     | Shiny               | Building interactive web applications in R.                 |\n| Collaboration        | Jupyter Notebook    | Interactive notebooks for sharing code and results.        |\n|                     | RStudio             | IDE for R, supporting collaboration and project management. |\n| Data Storage         | PostgreSQL          | Relational database for storing structured data.            |\n|                     | MongoDB             | NoSQL database for unstructured data.                       |\n",
      "metadata": {}
    },
    {
      "cell_type": "code",
      "source": "",
      "metadata": {
        "trusted": true
      },
      "outputs": [],
      "execution_count": null
    },
    {
      "cell_type": "markdown",
      "source": "Arithmetic expressions are fundamental mathematical statements that combine numbers and operators to perform calculations, such as addition, subtraction, multiplication, and division. Here are some examples:\n\n3+5=8\n\n12−4=8\n\n7×6=42\n\n20÷5=4\n",
      "metadata": {}
    },
    {
      "cell_type": "code",
      "source": "2*2\n",
      "metadata": {
        "trusted": true
      },
      "outputs": [
        {
          "execution_count": 8,
          "output_type": "execute_result",
          "data": {
            "text/plain": "4"
          },
          "metadata": {}
        }
      ],
      "execution_count": 8
    },
    {
      "cell_type": "code",
      "source": "minutes = 240\nhours = minutes/60\nprint(round(hours))\n",
      "metadata": {
        "trusted": true
      },
      "outputs": [
        {
          "name": "stdout",
          "text": "4\n",
          "output_type": "stream"
        }
      ],
      "execution_count": 15
    },
    {
      "cell_type": "markdown",
      "source": "Arithmetic expressions are fundamental mathematical statements that combine numbers and operators to perform calculations. Here are some examples:\n\n- Addition: \\( 3 + 5 = 8 \\)\n- Subtraction: \\( 12 - 4 = 8 \\)\n- Multiplication: \\( 7 \\times 6 = 42 \\)\n- Division: \\( 20 \\div 5 = 4 \\)",
      "metadata": {}
    },
    {
      "cell_type": "markdown",
      "source": "",
      "metadata": {}
    },
    {
      "cell_type": "markdown",
      "source": "AUTHOR - Yashas YS",
      "metadata": {}
    },
    {
      "cell_type": "code",
      "source": "",
      "metadata": {
        "trusted": true
      },
      "outputs": [],
      "execution_count": null
    }
  ]
}